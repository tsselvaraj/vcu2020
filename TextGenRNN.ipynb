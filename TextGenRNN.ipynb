{
 "cells": [
  {
   "cell_type": "code",
   "execution_count": 4,
   "metadata": {},
   "outputs": [],
   "source": [
    "from textgenrnn import textgenrnn"
   ]
  },
  {
   "cell_type": "code",
   "execution_count": 15,
   "metadata": {},
   "outputs": [
    {
     "name": "stderr",
     "output_type": "stream",
     "text": [
      " 40%|████      | 2/5 [00:01<00:02,  1.06it/s]"
     ]
    },
    {
     "name": "stdout",
     "output_type": "stream",
     "text": [
      "love alters not with his brief hours and weeks ,\n",
      "\n",
      "love ' s eye is not so true as all men ' s ' no . '\n",
      "\n"
     ]
    },
    {
     "name": "stderr",
     "output_type": "stream",
     "text": [
      " 80%|████████  | 4/5 [00:01<00:00,  1.81it/s]"
     ]
    },
    {
     "name": "stdout",
     "output_type": "stream",
     "text": [
      "love is a babe ; then might i not say so ,\n",
      "\n",
      "love ' s eye is not so true as all men ' s ' no . '\n",
      "\n"
     ]
    },
    {
     "name": "stderr",
     "output_type": "stream",
     "text": [
      "\r",
      "100%|██████████| 5/5 [00:01<00:00,  2.36it/s]"
     ]
    },
    {
     "name": "stdout",
     "output_type": "stream",
     "text": [
      "love is my sin and thy dear virtue hate ,\n",
      "\n"
     ]
    },
    {
     "name": "stderr",
     "output_type": "stream",
     "text": [
      "\n"
     ]
    }
   ],
   "source": [
    "textgen = textgenrnn(name=\"sonnets.hdf5\")\n",
    "#textgen.train_from_file('Downloads/sonnets.txt', \n",
    "#                        word_level=True, \n",
    "#                        new_model=True,\n",
    "#                        rnn_bidirectional=True,\n",
    "#                        rnn_size=128,\n",
    "#                        max_length=20,\n",
    "#                        rnn_layers=4,\n",
    "#                        dim_embeddings=100,\n",
    "#                        batch_size=128,\n",
    "#                        gen_epochs=10,\n",
    "#                        max_words=10000,\n",
    "#                        context=False, \n",
    "#                        num_epochs=50)\n",
    "\n",
    "textgen = textgenrnn(weights_path='sonnets.hdf5_weights.hdf5',\n",
    "                       vocab_path='sonnets.hdf5_vocab.json',\n",
    "                       config_path='sonnets.hdf5_config.json')\n",
    "\n",
    "textgen.generate(5, temperature=1.0, prefix=\"love\")\n",
    "\n",
    "\n",
    "#Transfer Learning - To transfer the learnings, train the textgenrnn instance on another dataset without specifying new_model=True. \n",
    "#You should train the second dataset for fewer epochs.\n",
    "\n",
    "# texts = ['Never gonna give you up, never gonna let you down',\n",
    "#            'Never gonna run around and desert you',\n",
    "#            'Never gonna make you cry, never gonna say goodbye',\n",
    "#            'Never gonna tell a lie and hurt you']\n",
    "\n",
    "#context_labels = ['Verse 1', 'Verse 1', 'Verse 2', 'Verse 2']\n",
    "\n",
    "#textgen.reset()\n",
    "#textgen.train_new_model(texts, context_labels=context_labels, max_length=5, gen_epochs=5, num_epochs=10)"
   ]
  },
  {
   "cell_type": "code",
   "execution_count": 6,
   "metadata": {},
   "outputs": [
    {
     "name": "stdout",
     "output_type": "stream",
     "text": [
      "__________________________________________________________________________________________________\n",
      "Layer (type)                    Output Shape         Param #     Connected to                     \n",
      "==================================================================================================\n",
      "input (InputLayer)              (None, 20)           0                                            \n",
      "__________________________________________________________________________________________________\n",
      "embedding (Embedding)           (None, 20, 100)      321500      input[0][0]                      \n",
      "__________________________________________________________________________________________________\n",
      "rnn_1 (Bidirectional)           (None, 20, 256)      234496      embedding[0][0]                  \n",
      "__________________________________________________________________________________________________\n",
      "rnn_2 (Bidirectional)           (None, 20, 256)      394240      rnn_1[0][0]                      \n",
      "__________________________________________________________________________________________________\n",
      "rnn_3 (Bidirectional)           (None, 20, 256)      394240      rnn_2[0][0]                      \n",
      "__________________________________________________________________________________________________\n",
      "rnn_4 (Bidirectional)           (None, 20, 256)      394240      rnn_3[0][0]                      \n",
      "__________________________________________________________________________________________________\n",
      "rnn_concat (Concatenate)        (None, 20, 1124)     0           embedding[0][0]                  \n",
      "                                                                 rnn_1[0][0]                      \n",
      "                                                                 rnn_2[0][0]                      \n",
      "                                                                 rnn_3[0][0]                      \n",
      "                                                                 rnn_4[0][0]                      \n",
      "__________________________________________________________________________________________________\n",
      "attention (AttentionWeightedAve (None, 1124)         1124        rnn_concat[0][0]                 \n",
      "__________________________________________________________________________________________________\n",
      "output (Dense)                  (None, 3215)         3616875     attention[0][0]                  \n",
      "==================================================================================================\n",
      "Total params: 5,356,715\n",
      "Trainable params: 5,356,715\n",
      "Non-trainable params: 0\n",
      "__________________________________________________________________________________________________\n"
     ]
    }
   ],
   "source": [
    "textgen.model.summary()"
   ]
  },
  {
   "cell_type": "code",
   "execution_count": 10,
   "metadata": {},
   "outputs": [
    {
     "name": "stdout",
     "output_type": "stream",
     "text": [
      "####################\n",
      "Temperature: 0.2\n",
      "####################\n",
      "\n",
      "\n",
      "\n",
      "\n",
      "\n",
      "\n",
      "####################\n",
      "Temperature: 0.5\n",
      "####################\n",
      "\n",
      "\n",
      "the crow or dove , it shapes them to your feature :\n",
      "\n",
      "\n",
      "\n",
      "####################\n",
      "Temperature: 1.0\n",
      "####################\n",
      "for we , which now behold these present days ,\n",
      "\n",
      "\n",
      "\n",
      "the lovely gaze where every eye doth dwell ,\n",
      "\n"
     ]
    }
   ],
   "source": [
    "textgen.generate_samples()"
   ]
  },
  {
   "cell_type": "code",
   "execution_count": null,
   "metadata": {},
   "outputs": [],
   "source": []
  }
 ],
 "metadata": {
  "kernelspec": {
   "display_name": "Python 3",
   "language": "python",
   "name": "python3"
  },
  "language_info": {
   "codemirror_mode": {
    "name": "ipython",
    "version": 3
   },
   "file_extension": ".py",
   "mimetype": "text/x-python",
   "name": "python",
   "nbconvert_exporter": "python",
   "pygments_lexer": "ipython3",
   "version": "3.7.1"
  }
 },
 "nbformat": 4,
 "nbformat_minor": 2
}
